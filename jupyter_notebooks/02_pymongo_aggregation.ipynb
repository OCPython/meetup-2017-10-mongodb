{
 "cells": [
  {
   "cell_type": "markdown",
   "metadata": {},
   "source": [
    "# Aggregation (via pymongo)"
   ]
  },
  {
   "cell_type": "code",
   "execution_count": null,
   "metadata": {
    "collapsed": true
   },
   "outputs": [],
   "source": [
    "# import pymongo\n",
    "from pymongo import MongoClient\n",
    "from pprint import pprint"
   ]
  },
  {
   "cell_type": "code",
   "execution_count": null,
   "metadata": {
    "collapsed": true
   },
   "outputs": [],
   "source": [
    "# Create client\n",
    "client = MongoClient('mongodb://localhost:32768')"
   ]
  },
  {
   "cell_type": "code",
   "execution_count": null,
   "metadata": {
    "collapsed": true
   },
   "outputs": [],
   "source": [
    "# Connect to database\n",
    "db = client['fifa']"
   ]
  },
  {
   "cell_type": "code",
   "execution_count": null,
   "metadata": {
    "collapsed": false
   },
   "outputs": [],
   "source": [
    "# Get collection\n",
    "my_collection = db['player']"
   ]
  },
  {
   "cell_type": "markdown",
   "metadata": {},
   "source": [
    "# Do An Aggregation"
   ]
  },
  {
   "cell_type": "markdown",
   "metadata": {},
   "source": [
    "### Basic process to convert pipelines from a JavaScript array to a Python list\n",
    "1. Convert all comments (from \"//\" to \"#\")\n",
    "2. Title-case all true/false to True/False\n",
    "3. Quote all operators and fields ($match --> '$match')\n",
    "4. Important: When using $sort operator in Python 2, wrap list with SON() method (from bson import SON)\n",
    "\n",
    "### Tips to avoid above process\n",
    "1. Use 1/0 for True/False\n",
    "2. Quote things in JavaScript ahead of time\n"
   ]
  },
  {
   "cell_type": "markdown",
   "metadata": {},
   "source": [
    "## Helper Functions"
   ]
  },
  {
   "cell_type": "code",
   "execution_count": null,
   "metadata": {
    "collapsed": false
   },
   "outputs": [],
   "source": [
    "def print_docs(pipeline, limit=5):\n",
    "\n",
    "    pipeline.append({'$limit':limit})\n",
    "\n",
    "    # Run Aggregation\n",
    "    docs = my_collection.aggregate(pipeline)\n",
    "\n",
    "    # Print Results\n",
    "    for idx, doc in enumerate(docs):\n",
    "#         print(type(doc))\n",
    "        pprint(doc)\n",
    "    #     print(f\"#{idx + 1}: {doc}\\n\\n\")\n"
   ]
  },
  {
   "cell_type": "markdown",
   "metadata": {},
   "source": [
    "Aggregation"
   ]
  },
  {
   "cell_type": "code",
   "execution_count": null,
   "metadata": {
    "collapsed": false
   },
   "outputs": [],
   "source": [
    "# $match - Filter out Goalkeepers\n",
    "match_a = {\n",
    "    '$match': {\n",
    "        'positionFull': {'$ne': 'Goalkeeper'}\n",
    "    }\n",
    "}\n",
    "\n",
    "# Create Pipeline\n",
    "pipeline = [\n",
    "    match_a, \n",
    "]\n",
    "\n",
    "# Fetch and Print the Results\n",
    "print_docs(pipeline, limit=1)"
   ]
  },
  {
   "cell_type": "code",
   "execution_count": null,
   "metadata": {
    "collapsed": false
   },
   "outputs": [],
   "source": [
    "# $project - Keep only the fields we're interested in\n",
    "project_a = {\n",
    "    '$project': {\n",
    "        '_id': True,  # Note: not required, _id is included by default\n",
    "        'name': {'$concat': ['$firstName', ' ', '$lastName']},\n",
    "        'pos': '$positionFull',  # Note: renaming\n",
    "        'rating': True,\n",
    "        'attributes': True\n",
    "    }\n",
    "}\n",
    "\n",
    "# Create Pipeline\n",
    "pipeline = [\n",
    "    match_a, \n",
    "    project_a, \n",
    "]\n",
    "\n",
    "# Fetch and Print the Results\n",
    "print_docs(pipeline, limit=5)"
   ]
  },
  {
   "cell_type": "code",
   "execution_count": null,
   "metadata": {
    "collapsed": false
   },
   "outputs": [],
   "source": [
    "# $unwind - Convert N documents to 6*N documents (so we can do math on attributes)\n",
    "unwind_a = {\n",
    "    '$unwind': '$attributes'\n",
    "}\n",
    "\n",
    "# Create Pipeline\n",
    "pipeline = [\n",
    "    match_a, \n",
    "    project_a, \n",
    "    unwind_a, \n",
    "]\n",
    "\n",
    "# Fetch and Print the Results\n",
    "print_docs(pipeline, limit=5)"
   ]
  },
  {
   "cell_type": "code",
   "execution_count": null,
   "metadata": {
    "collapsed": false
   },
   "outputs": [],
   "source": [
    "# $group - $sum the value of the attributes (and pass the rest of the fields through the _id)\n",
    "group_a = {\n",
    "    '$group': {\n",
    "        '_id': {\n",
    "            'id': '$_id',\n",
    "            'rating': '$rating',\n",
    "            'name': '$name',\n",
    "            'pos': '$pos'\n",
    "        },\n",
    "        \"sum_attributes\": {\n",
    "            '$sum': \"$attributes.value\"\n",
    "        }\n",
    "    }\n",
    "}\n",
    "\n",
    "# Create Pipeline\n",
    "pipeline = [\n",
    "    match_a, \n",
    "    project_a, \n",
    "    unwind_a, \n",
    "    group_a, \n",
    "]\n",
    "\n",
    "# Fetch and Print the Results\n",
    "print_docs(pipeline, limit=5)"
   ]
  },
  {
   "cell_type": "code",
   "execution_count": null,
   "metadata": {
    "collapsed": false
   },
   "outputs": [],
   "source": [
    "# $project - Keep only the fields we're interested in\n",
    "# Note: this is our second $project operator !!!\n",
    "project_b = {\n",
    "    '$project': {\n",
    "        '_id': False,  # turn off _id\n",
    "\n",
    "        'id': '$_id.id',\n",
    "        'name': '$_id.name',\n",
    "        'pos': '$_id.pos',\n",
    "        'rating': '$_id.rating',\n",
    "\n",
    "        'avg_attributes': {\"$divide\": ['$sum_attributes', 6]},\n",
    "        'rating_attribute_difference': {\"$subtract\": [{\"$divide\": ['$sum_attributes', 6]}, '$_id.rating']}\n",
    "    }\n",
    "}\n",
    "\n",
    "# Create Pipeline\n",
    "pipeline = [\n",
    "    match_a, \n",
    "    project_a, \n",
    "    unwind_a, \n",
    "    group_a, \n",
    "    project_b,\n",
    "]\n",
    "\n",
    "# Fetch and Print the Results\n",
    "print_docs(pipeline, limit=5)"
   ]
  },
  {
   "cell_type": "code",
   "execution_count": null,
   "metadata": {
    "collapsed": false
   },
   "outputs": [],
   "source": [
    "# $match - Find anybody rated LESS than 75 that has a higher than 75 avg_attributes\n",
    "# Note: this is our second $match operator !!!\n",
    "match_b = {\n",
    "    '$match': {\n",
    "        'rating': {'$lt': 75},\n",
    "        'avg_attributes': {'$gte': 75}\n",
    "    }\n",
    "}\n",
    "\n",
    "# Create Pipeline\n",
    "pipeline = [\n",
    "    match_a, \n",
    "    project_a, \n",
    "    unwind_a, \n",
    "    group_a, \n",
    "    project_b, \n",
    "    match_b, \n",
    "]\n",
    "\n",
    "# Fetch and Print the Results\n",
    "print_docs(pipeline, limit=5)"
   ]
  },
  {
   "cell_type": "code",
   "execution_count": null,
   "metadata": {
    "collapsed": false
   },
   "outputs": [],
   "source": [
    "# $sort - Based on the amount of injustice\n",
    "# Note: This step could be placed above previous \"$match\" step, but placing it here is more efficient with less\n",
    "#       data to sort\n",
    "sort_a = {\n",
    "    '$sort': {\n",
    "        'rating_attribute_difference': -1\n",
    "    }\n",
    "}\n",
    "\n",
    "# Create Pipeline\n",
    "pipeline = [\n",
    "    match_a, \n",
    "    project_a, \n",
    "    unwind_a, \n",
    "    group_a, \n",
    "    project_b, \n",
    "    match_b, \n",
    "    sort_a,\n",
    "]\n",
    "\n",
    "# Fetch and Print the Results\n",
    "print_docs(pipeline, limit=5)"
   ]
  },
  {
   "cell_type": "markdown",
   "metadata": {},
   "source": [
    "## Final Pipeline"
   ]
  },
  {
   "cell_type": "code",
   "execution_count": null,
   "metadata": {
    "collapsed": false
   },
   "outputs": [],
   "source": [
    "# Create Pipeline\n",
    "pipeline = [match_a, project_a, unwind_a, group_a, project_b, match_b, sort_a]\n",
    "\n",
    "# Run Aggregation\n",
    "docs = my_collection.aggregate(pipeline)\n",
    "\n",
    "# Print Results\n",
    "for idx, doc in enumerate(docs):\n",
    "    print(f\"#{idx + 1}: {doc['name']}, a {doc['pos']}, is rated {doc['rating']} instead of {doc['avg_attributes']:.0f}\")\n"
   ]
  }
 ],
 "metadata": {
  "kernelspec": {
   "display_name": "mongodb-kernel",
   "language": "python",
   "name": "mongodb-kernel"
  },
  "language_info": {
   "codemirror_mode": {
    "name": "ipython",
    "version": 3
   },
   "file_extension": ".py",
   "mimetype": "text/x-python",
   "name": "python",
   "nbconvert_exporter": "python",
   "pygments_lexer": "ipython3",
   "version": "3.6.1"
  }
 },
 "nbformat": 4,
 "nbformat_minor": 2
}
