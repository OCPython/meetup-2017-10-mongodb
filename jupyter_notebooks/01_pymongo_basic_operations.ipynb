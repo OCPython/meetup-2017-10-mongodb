{
 "cells": [
  {
   "cell_type": "markdown",
   "metadata": {},
   "source": [
    "# Basic CRUD Operations (via pymongo)"
   ]
  },
  {
   "cell_type": "code",
   "execution_count": 1,
   "metadata": {
    "collapsed": true
   },
   "outputs": [],
   "source": [
    "# import pymongo\n",
    "from pymongo import MongoClient"
   ]
  },
  {
   "cell_type": "code",
   "execution_count": 2,
   "metadata": {
    "collapsed": true
   },
   "outputs": [],
   "source": [
    "# Create client\n",
    "client = MongoClient('mongodb://localhost:32768')"
   ]
  },
  {
   "cell_type": "code",
   "execution_count": 3,
   "metadata": {
    "collapsed": true
   },
   "outputs": [],
   "source": [
    "# Connect to database\n",
    "db = client['mongo_meetup']"
   ]
  },
  {
   "cell_type": "code",
   "execution_count": 4,
   "metadata": {
    "collapsed": false
   },
   "outputs": [],
   "source": [
    "# Get collection\n",
    "my_collection = db['users']"
   ]
  },
  {
   "cell_type": "markdown",
   "metadata": {},
   "source": [
    "## Helper Functions"
   ]
  },
  {
   "cell_type": "code",
   "execution_count": 5,
   "metadata": {
    "collapsed": true
   },
   "outputs": [],
   "source": [
    "def print_users(users):\n",
    "    \"\"\"Print 0-N mongo documents\"\"\"\n",
    "    for idx, user in enumerate(users):\n",
    "        print(f'{idx}: {user}')"
   ]
  },
  {
   "cell_type": "code",
   "execution_count": 6,
   "metadata": {
    "collapsed": true
   },
   "outputs": [],
   "source": [
    "def print_all_users(my_collection):\n",
    "    \"\"\"Print all the users in the 'users' collection\"\"\"\n",
    "    users = my_collection.find({})\n",
    "    print('--- All Users ---')\n",
    "    print_users(users)"
   ]
  },
  {
   "cell_type": "markdown",
   "metadata": {},
   "source": [
    "# CREATE\n",
    "\"INSERT\" in SQL"
   ]
  },
  {
   "cell_type": "code",
   "execution_count": 7,
   "metadata": {
    "collapsed": false
   },
   "outputs": [
    {
     "name": "stdout",
     "output_type": "stream",
     "text": [
      "result: <pymongo.results.InsertOneResult object at 0x1082c7688>\n"
     ]
    }
   ],
   "source": [
    "# Note syntax change: All keys now wrapped in quotes (name goes to python \"name\")\n",
    "\n",
    "doc = {\n",
    "    \"name\": \"Sue\",             # \"field\": value\n",
    "    \"email\": \"sue@gmail.com\",  # \"field\": value\n",
    "    \"age\": 26,                 # \"field\": value\n",
    "    \"status\": \"pending\"        # \"field\": value\n",
    "}\n",
    "\n",
    "result = my_collection.insert_one(doc)\n",
    "\n",
    "print(f'result: {result}')"
   ]
  },
  {
   "cell_type": "code",
   "execution_count": 8,
   "metadata": {
    "collapsed": false
   },
   "outputs": [
    {
     "name": "stdout",
     "output_type": "stream",
     "text": [
      "user_2_id: 59d3de6ebd154d126d5f76d4\n"
     ]
    }
   ],
   "source": [
    "# Insert a second user\n",
    "doc = {\n",
    "    \"name\": \"Johnny\",\n",
    "    \"email\": \"johnny@gmail.com\",    \n",
    "    \"age\": 13,\n",
    "    \"status\": \"pending\"\n",
    "}\n",
    "user_2_id = my_collection.insert_one(doc).inserted_id\n",
    "print(f'user_2_id: {user_2_id}')"
   ]
  },
  {
   "cell_type": "markdown",
   "metadata": {},
   "source": [
    "### Print All Users"
   ]
  },
  {
   "cell_type": "code",
   "execution_count": 9,
   "metadata": {
    "collapsed": false
   },
   "outputs": [
    {
     "name": "stdout",
     "output_type": "stream",
     "text": [
      "--- All Users ---\n",
      "0: {'_id': ObjectId('59d3db35ece3a2a88b3bc55b'), 'name': 'Sue', 'email': 'sue@gmail.com', 'age': 26.0, 'status': 'pending'}\n",
      "1: {'_id': ObjectId('59d3db36ece3a2a88b3bc55c'), 'name': 'Johnny', 'email': 'johnny@gmail.com', 'age': 13.0, 'status': 'pending'}\n",
      "2: {'_id': ObjectId('59d3de6dbd154d126d5f76d3'), 'name': 'Sue', 'email': 'sue@gmail.com', 'age': 26, 'status': 'pending'}\n",
      "3: {'_id': ObjectId('59d3de6ebd154d126d5f76d4'), 'name': 'Johnny', 'email': 'johnny@gmail.com', 'age': 13, 'status': 'pending'}\n"
     ]
    }
   ],
   "source": [
    "print_all_users(my_collection)"
   ]
  },
  {
   "cell_type": "markdown",
   "metadata": {},
   "source": [
    "# READ\n",
    "(\"SELECT\" in SQL)\n"
   ]
  },
  {
   "cell_type": "code",
   "execution_count": 10,
   "metadata": {
    "collapsed": false
   },
   "outputs": [],
   "source": [
    "# Note syntax change: \"true\" goes to python \"True\" (Can use 1 instead of true/True)\n",
    "# Note syntax change: \"$gte\" wrapped in quotes\n",
    "\n",
    "users = my_collection.find(\n",
    "    { \"age\": { \"$gte\": 18 } },                        # query criteria\n",
    "    { \"_id\":False, \"name\": True, \"address\": True }    # projection\n",
    ").limit(5)                                            # cursor modifier"
   ]
  },
  {
   "cell_type": "code",
   "execution_count": 11,
   "metadata": {
    "collapsed": false,
    "slideshow": {
     "slide_type": "-"
    }
   },
   "outputs": [
    {
     "name": "stdout",
     "output_type": "stream",
     "text": [
      "Type: <class 'pymongo.cursor.Cursor'>\n"
     ]
    }
   ],
   "source": [
    "print(f'Type: {type(users)}')"
   ]
  },
  {
   "cell_type": "code",
   "execution_count": 12,
   "metadata": {
    "collapsed": false
   },
   "outputs": [
    {
     "name": "stdout",
     "output_type": "stream",
     "text": [
      "0: {'name': 'Sue'}\n",
      "1: {'name': 'Sue'}\n"
     ]
    }
   ],
   "source": [
    "print_users(users)"
   ]
  },
  {
   "cell_type": "markdown",
   "metadata": {},
   "source": [
    "# UPDATE \n",
    "(\"UPDATE\" in SQL)"
   ]
  },
  {
   "cell_type": "code",
   "execution_count": 13,
   "metadata": {
    "collapsed": false
   },
   "outputs": [
    {
     "data": {
      "text/plain": [
       "<pymongo.results.UpdateResult at 0x1084f97c8>"
      ]
     },
     "execution_count": 13,
     "metadata": {},
     "output_type": "execute_result"
    }
   ],
   "source": [
    "# Note syntax change: method \"updateMany\" renamed to \"update_many\" (more pythonic)\n",
    "\n",
    "my_collection.update_many(\n",
    "    { \"age\": { \"$lt\": 18 } },\n",
    "    { \"$set\": { \"status\": \"reject\" } }    \n",
    ")"
   ]
  },
  {
   "cell_type": "markdown",
   "metadata": {},
   "source": [
    "# DELETE \n",
    "(\"DELETE\" in SQL)"
   ]
  },
  {
   "cell_type": "code",
   "execution_count": 14,
   "metadata": {
    "collapsed": false
   },
   "outputs": [
    {
     "data": {
      "text/plain": [
       "<pymongo.results.DeleteResult at 0x10822e748>"
      ]
     },
     "execution_count": 14,
     "metadata": {},
     "output_type": "execute_result"
    }
   ],
   "source": [
    "# Note syntax change: method \"deleteMany\" renamed to \"delete_many\" (more pythonic)\n",
    "\n",
    "db.users.delete_many(\n",
    "    { \"status\": \"reject\" }\n",
    ")"
   ]
  },
  {
   "cell_type": "markdown",
   "metadata": {
    "collapsed": true
   },
   "source": [
    "### Print All Users"
   ]
  },
  {
   "cell_type": "code",
   "execution_count": 15,
   "metadata": {
    "collapsed": false
   },
   "outputs": [
    {
     "name": "stdout",
     "output_type": "stream",
     "text": [
      "--- All Users ---\n",
      "0: {'_id': ObjectId('59d3db35ece3a2a88b3bc55b'), 'name': 'Sue', 'email': 'sue@gmail.com', 'age': 26.0, 'status': 'pending'}\n",
      "1: {'_id': ObjectId('59d3de6dbd154d126d5f76d3'), 'name': 'Sue', 'email': 'sue@gmail.com', 'age': 26, 'status': 'pending'}\n"
     ]
    }
   ],
   "source": [
    "print_all_users(my_collection)"
   ]
  },
  {
   "cell_type": "markdown",
   "metadata": {},
   "source": [
    "### DELETE/DROP 'Users'\n"
   ]
  },
  {
   "cell_type": "code",
   "execution_count": 16,
   "metadata": {
    "collapsed": false
   },
   "outputs": [],
   "source": [
    "# DANGER!!! (\"DELETE FROM users\" in SQL)\n",
    "db.users.delete_many({});\n",
    "\n",
    "# DANGER!!! (\"DROP TABLE users\" in SQL)\n",
    "db.users.drop();\n"
   ]
  }
 ],
 "metadata": {
  "kernelspec": {
   "display_name": "mongodb-kernel",
   "language": "python",
   "name": "mongodb-kernel"
  },
  "language_info": {
   "codemirror_mode": {
    "name": "ipython",
    "version": 3
   },
   "file_extension": ".py",
   "mimetype": "text/x-python",
   "name": "python",
   "nbconvert_exporter": "python",
   "pygments_lexer": "ipython3",
   "version": "3.6.1"
  }
 },
 "nbformat": 4,
 "nbformat_minor": 2
}
