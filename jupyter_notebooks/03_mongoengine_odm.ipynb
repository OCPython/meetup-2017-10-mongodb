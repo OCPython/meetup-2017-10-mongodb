{
 "cells": [
  {
   "cell_type": "markdown",
   "metadata": {},
   "source": [
    "# ODM - Object Document Mapper (via mongoengine)"
   ]
  },
  {
   "cell_type": "markdown",
   "metadata": {},
   "source": [
    "## Imports"
   ]
  },
  {
   "cell_type": "code",
   "execution_count": null,
   "metadata": {
    "collapsed": true
   },
   "outputs": [],
   "source": [
    "import mongoengine\n",
    "from mongoengine import *"
   ]
  },
  {
   "cell_type": "markdown",
   "metadata": {},
   "source": [
    "## Register MongoEngine Connection"
   ]
  },
  {
   "cell_type": "code",
   "execution_count": null,
   "metadata": {
    "collapsed": false
   },
   "outputs": [],
   "source": [
    "connection_info = {\n",
    "    'host': 'localhost',\n",
    "    'port': 32768,\n",
    "    # 'username': user,\n",
    "    # 'password': password,\n",
    "    # 'authentication_source': 'admin',\n",
    "    # 'authentication_mechanism': 'SCRAM-SHA-1',\n",
    "    # 'ssl': use_ssl,\n",
    "    # 'ssl_cert_reqs': ssl.CERT_NONE,\n",
    "}\n",
    "mongoengine.register_connection(alias='core', name='mongo_meetup', **connection_info)"
   ]
  },
  {
   "cell_type": "markdown",
   "metadata": {},
   "source": [
    "## 'User' Class Definition"
   ]
  },
  {
   "cell_type": "code",
   "execution_count": null,
   "metadata": {
    "collapsed": false
   },
   "outputs": [],
   "source": [
    "class User(Document):\n",
    "\n",
    "    first_name = StringField(max_length=50)\n",
    "    last_name = StringField(max_length=50)\n",
    "    email = EmailField(required=True, unique=True)\n",
    "    \n",
    "    meta = {\n",
    "        'db_alias': 'core',\n",
    "        'collection': 'users',\n",
    "        \n",
    "        'indexes': [\n",
    "            {\n",
    "                'fields': ['email'], \n",
    "                'unique': True,\n",
    "            },\n",
    "        ]\n",
    "    }"
   ]
  },
  {
   "cell_type": "markdown",
   "metadata": {},
   "source": [
    "## 'Issue' Class Definition\n",
    "with embedded documents"
   ]
  },
  {
   "cell_type": "code",
   "execution_count": null,
   "metadata": {
    "collapsed": false
   },
   "outputs": [],
   "source": [
    "class IssueType(EmbeddedDocument):\n",
    "    name = StringField(required=True, max_length=50)\n",
    "\n",
    "class Priority(EmbeddedDocument):\n",
    "    name = StringField(required=True, max_length=50, choices=('Minor','Major','Blocker'))\n",
    "\n",
    "class Status(EmbeddedDocument):\n",
    "    name = StringField(required=True, max_length=50)\n",
    "\n",
    "class Comment(EmbeddedDocument):\n",
    "    content = StringField()\n",
    "#     author = ReferenceField(User, reverse_delete_rule=CASCADE)\n",
    "\n",
    "class Issue(Document):\n",
    "    issue_type = EmbeddedDocumentField(IssueType)\n",
    "    priority = EmbeddedDocumentField(Priority)\n",
    "    status = EmbeddedDocumentField(Status)\n",
    "    reporter = ReferenceField(User, reverse_delete_rule=CASCADE)  # CASCADE - delete all issues when a user is deleted\n",
    "    assignee = ReferenceField(User, reverse_delete_rule=CASCADE)\n",
    "\n",
    "    summary = StringField(max_length=500, required=True)\n",
    "\n",
    "#     comments = ListField(ReferenceField(Comment))\n",
    "\n",
    "    tags = ListField(StringField(max_length=30))\n",
    "\n",
    "    meta = {\n",
    "        'db_alias': 'core',\n",
    "        'collection': 'issues',\n",
    "\n",
    "        'allow_inheritance': True,\n",
    "        'index_background': True,\n",
    "\n",
    "        # see: http://docs.mongoengine.org/guide/defining-documents.html?highlight=indexes#indexes\n",
    "        'indexes': [\n",
    "            'summary',\n",
    "            '$summary',  # text index\n",
    "#             'comments.content',\n",
    "            # ('reporter','-assignee'), # multi-column\n",
    "        ]\n",
    "    }\n",
    "\n",
    "# class CallIssue(Issue):\n",
    "#     image_path = StringField()\n"
   ]
  },
  {
   "cell_type": "markdown",
   "metadata": {},
   "source": [
    "# Create Users\n",
    "Note: .save() method"
   ]
  },
  {
   "cell_type": "code",
   "execution_count": null,
   "metadata": {
    "collapsed": false
   },
   "outputs": [],
   "source": [
    "cody = User(first_name='Cody', last_name='Fletcher', email='cody@email.com').save()\n",
    "michael = User(first_name='Michael', last_name='Nguyen', email='michael@email.com').save()"
   ]
  },
  {
   "cell_type": "markdown",
   "metadata": {},
   "source": [
    "# Create Embedded Documents for Issue\n",
    "Note: NO .save() method required for embedded docs\n"
   ]
  },
  {
   "cell_type": "code",
   "execution_count": null,
   "metadata": {
    "collapsed": true
   },
   "outputs": [],
   "source": [
    "# Note: NO .save() needed\n",
    "priority_major = Priority(name='Major')\n",
    "issue_type_story = IssueType(name='Story')\n",
    "status_open = Status(name='Open')"
   ]
  },
  {
   "cell_type": "markdown",
   "metadata": {},
   "source": [
    "# Create Issue"
   ]
  },
  {
   "cell_type": "code",
   "execution_count": null,
   "metadata": {
    "collapsed": false
   },
   "outputs": [],
   "source": [
    "issue = Issue(\n",
    "    priority=priority_major,\n",
    "    issue_type=issue_type_story,\n",
    "    status=status_open,\n",
    "    summary='Test your code',\n",
    "    reporter=michael,\n",
    "    assignee=cody,\n",
    ").save()\n",
    "\n",
    "# Save the issue id\n",
    "issue_id = issue.id"
   ]
  },
  {
   "cell_type": "markdown",
   "metadata": {},
   "source": [
    "# Try Out Validation"
   ]
  },
  {
   "cell_type": "code",
   "execution_count": null,
   "metadata": {
    "collapsed": false
   },
   "outputs": [],
   "source": [
    "# Change priority\n",
    "\n",
    "# This works without raising an exception...\n",
    "priority_trivial = Priority(name='Trivial')\n",
    "\n",
    "# ...but this fails validation\n",
    "issue.priority = priority_trivial\n",
    "try:\n",
    "    issue.save()\n",
    "except ValidationError as e:\n",
    "    print(f'Exception caught: {e}')"
   ]
  },
  {
   "cell_type": "markdown",
   "metadata": {},
   "source": [
    "# Fetch a Document"
   ]
  },
  {
   "cell_type": "code",
   "execution_count": null,
   "metadata": {
    "collapsed": true
   },
   "outputs": [],
   "source": [
    "issue_fetched = Issue.objects(id=issue_id).first()\n",
    "\n",
    "if not issue_fetched:\n",
    "    raise Exception(f'No issue with id {issue_id}')"
   ]
  },
  {
   "cell_type": "markdown",
   "metadata": {},
   "source": [
    "# Clear Database"
   ]
  },
  {
   "cell_type": "code",
   "execution_count": null,
   "metadata": {
    "collapsed": true
   },
   "outputs": [],
   "source": [
    "Issue.drop_collection()\n",
    "User.drop_collection()"
   ]
  },
  {
   "cell_type": "code",
   "execution_count": null,
   "metadata": {
    "collapsed": true
   },
   "outputs": [],
   "source": []
  }
 ],
 "metadata": {
  "kernelspec": {
   "display_name": "mongodb-kernel",
   "language": "python",
   "name": "mongodb-kernel"
  },
  "language_info": {
   "codemirror_mode": {
    "name": "ipython",
    "version": 3
   },
   "file_extension": ".py",
   "mimetype": "text/x-python",
   "name": "python",
   "nbconvert_exporter": "python",
   "pygments_lexer": "ipython3",
   "version": "3.6.1"
  }
 },
 "nbformat": 4,
 "nbformat_minor": 2
}
